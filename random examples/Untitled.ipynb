{
 "cells": [
  {
   "cell_type": "code",
   "execution_count": 1,
   "metadata": {},
   "outputs": [
    {
     "name": "stdout",
     "output_type": "stream",
     "text": [
      "x e maior que y\n",
      "x menor que y\n"
     ]
    }
   ],
   "source": [
    "x = 2\n",
    "y = 1\n",
    "z = 0\n",
    "\n",
    "if x < y:\n",
    "    if y < z:\n",
    "        print (\"x é menor que y\\ny e menor que z\")\n",
    "    else:\n",
    "        print (\"z menor que y\")\n",
    "else:\n",
    "    print (\"x e maior que y\")\n",
    "\n",
    "x = 1\n",
    "y = 2\n",
    "\n",
    "if x == y:\n",
    "    print (\"x igual a y\")\n",
    "elif x > y:\n",
    "    print (\"x maior que y\")\n",
    "elif x < y: \n",
    "    print (\"x menor que y\")\n",
    "else:\n",
    "    print (\"valor nao reconhecido\")\n",
    "    "
   ]
  },
  {
   "cell_type": "code",
   "execution_count": null,
   "metadata": {},
   "outputs": [],
   "source": []
  }
 ],
 "metadata": {
  "kernelspec": {
   "display_name": "Python 3",
   "language": "python",
   "name": "python3"
  },
  "language_info": {
   "codemirror_mode": {
    "name": "ipython",
    "version": 3
   },
   "file_extension": ".py",
   "mimetype": "text/x-python",
   "name": "python",
   "nbconvert_exporter": "python",
   "pygments_lexer": "ipython3",
   "version": "3.8.5"
  }
 },
 "nbformat": 4,
 "nbformat_minor": 4
}
